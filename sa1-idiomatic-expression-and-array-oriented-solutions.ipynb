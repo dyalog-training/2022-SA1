{
 "cells": [
  {
   "cell_type": "markdown",
   "id": "b4b76ac2",
   "metadata": {
    "slideshow": {
     "slide_type": "slide"
    }
   },
   "source": [
    "# Idiomatic Expression and Array Oriented Solutions in APL"
   ]
  },
  {
   "cell_type": "markdown",
   "id": "3c41d17a",
   "metadata": {
    "slideshow": {
     "slide_type": "slide"
    }
   },
   "source": [
    "## Goals for code\n",
    "- Arriving at working solution ASAP\n",
    "- Expressing the solution is the clearest way possible\n",
    "- Finding the most performant solution (CPU time, memory)"
   ]
  },
  {
   "cell_type": "markdown",
   "id": "bb8b6162",
   "metadata": {},
   "source": [
    "Busy people need to arrive at solutions.\n",
    "\n",
    "However, it can worth exploring AOP solutions to get a better understanding of the problem or to learn new techniques or ways of writing code."
   ]
  },
  {
   "cell_type": "markdown",
   "id": "837fa83f-d895-4c62-8d4d-3985626863df",
   "metadata": {
    "slideshow": {
     "slide_type": "slide"
    },
    "tags": []
   },
   "source": [
    "## Idiomatic APL\n",
    "- How people tend to use APL\n",
    "- Driven by both language and device limitations\n",
    "- Definitely has changed, especially since nested arrays\n",
    "- Non-trivial but often used functions become part of the idiom library ([APLCart](https://aplcart.info))\n",
    "- Dyalog's unfortunate use of the word **idiom**: [Dyalog idioms](https://docs.dyalog.com/latest/CheatSheet%20-%20Idioms.pdf)"
   ]
  },
  {
   "cell_type": "markdown",
   "id": "a786c4e1-25c2-499e-b810-884a61738e19",
   "metadata": {
    "slideshow": {
     "slide_type": "slide"
    },
    "tags": []
   },
   "source": [
    "## Array-oriented algorithms\n",
    "- In Dyalog APL, focus on data transformations and applying the smallest possible functions (close to primitives) to the largest possible collections of data (large arrays).\n",
    "\n",
    "> \"It is better to have 100 functions operate on one data structure than to have 10 functions operate on 10 data structures.\" This quote is from Alan Perlis' Epigrams on Programming (1982).\n",
    "\n",
    "- The **each** operator `F¨` and rank operator `F⍤j k` are both loops conceptually.\n",
    "- Flat array solutions tend to be faster, but can be messier.\n",
    "- Select from arrays based on conditions\n",
    "- Use mathematical insights to vectorise algorithms"
   ]
  },
  {
   "cell_type": "markdown",
   "id": "3aaa435a",
   "metadata": {
    "slideshow": {
     "slide_type": "slide"
    }
   },
   "source": [
    "## In this workshop\n",
    "- Learn some techniques\n",
    "- Dissect some flat-array APL\n",
    "- Practise problem solving"
   ]
  },
  {
   "cell_type": "markdown",
   "id": "902872d0",
   "metadata": {
    "slideshow": {
     "slide_type": "slide"
    }
   },
   "source": [
    "### Example: Salaries\n",
    "\n",
    "Given 12 salaries of employees in 4 groups:"
   ]
  },
  {
   "cell_type": "code",
   "execution_count": 1,
   "id": "21e741cf",
   "metadata": {},
   "outputs": [
    {
     "data": {
      "text/html": [
       "<span style=\"white-space:pre; font-family: monospace\">    C     C     A     A     C     C     B     B     C     C     D     A\n",
       "35000 35000 25000 25000 35000 35000 30000 30000 35000 35000 25000 35000\n",
       "</span>"
      ]
     },
     "execution_count": 1,
     "metadata": {},
     "output_type": "execute_result"
    }
   ],
   "source": [
    "s ← {⎕RL←42 ⋄ 20000+5000×?⍵⍴3}12\n",
    "g ← {⎕RL←42 ⋄ ⎕A[?12⍴⍵]}4\n",
    "⎕←↑g s"
   ]
  },
  {
   "cell_type": "markdown",
   "id": "fee4ac70",
   "metadata": {},
   "source": [
    "For each salary, if the person is in group **B**, increase by $10\\%$. If the person is in group **D**, increase by $5\\%$. Otherwise, salary remains the same."
   ]
  },
  {
   "cell_type": "code",
   "execution_count": 2,
   "id": "6dfc13fd",
   "metadata": {
    "slideshow": {
     "slide_type": "subslide"
    }
   },
   "outputs": [
    {
     "data": {
      "text/html": [
       "<span style=\"white-space:pre; font-family: monospace\">35000 35000 25000 25000 35000 35000 33000 33000 35000 35000 26250 35000\n",
       "</span>"
      ]
     },
     "execution_count": 2,
     "metadata": {},
     "output_type": "execute_result"
    }
   ],
   "source": [
    "s×1+(0.05×'D'=g)+(0.1×'B'=g)"
   ]
  },
  {
   "cell_type": "code",
   "execution_count": 3,
   "id": "c2b65e9a",
   "metadata": {
    "tags": []
   },
   "outputs": [
    {
     "name": "stderr",
     "output_type": "stream",
     "text": [
      "VALUE ERROR: Undefined name: Increase\n",
      "      'BD'(10 5)Increase g s\n",
      "                ∧\n"
     ]
    }
   ],
   "source": [
    "'BD' (10 5) Increase g s"
   ]
  },
  {
   "cell_type": "markdown",
   "id": "67949f1e",
   "metadata": {
    "slideshow": {
     "slide_type": "slide"
    }
   },
   "source": [
    "### Example: Arrival times\n",
    "A workshop begins at 10:00. Arriving \n",
    "\n",
    "- If a person arrived before the start time, return `'early'`.\n",
    "- If a person arrived within 10 minutes (exclusive) of the start time, return `'on time'`.\n",
    "- If a person arrived 10 miutes after the start time *or later*, return `'late'`."
   ]
  },
  {
   "cell_type": "code",
   "execution_count": 4,
   "id": "8c5aa43c",
   "metadata": {},
   "outputs": [
    {
     "data": {
      "text/html": [
       "<span style=\"white-space:pre; font-family: monospace\">600 610 603 606 592 616 605 608 619 608 613 608\n",
       "</span>"
      ]
     },
     "execution_count": 4,
     "metadata": {},
     "output_type": "execute_result"
    }
   ],
   "source": [
    "start ← 600 610             ⍝ Start time window in minutes since midnight\n",
    "arrive ← 590+10,20,?10⍴30   ⍝ Arrival time of 12 participants\n",
    "⎕←arrive"
   ]
  },
  {
   "cell_type": "code",
   "execution_count": 5,
   "id": "25352320",
   "metadata": {
    "slideshow": {
     "slide_type": "subslide"
    },
    "tags": []
   },
   "outputs": [
    {
     "data": {
      "text/html": [
       "<span style=\"white-space:pre; font-family: monospace\">     600   610      603      606    592   616      605      608   619      608   613      608 \n",
       " on time  late  on time  on time  early  late  on time  on time  late  on time  late  on time \n",
       "</span>"
      ]
     },
     "execution_count": 5,
     "metadata": {},
     "output_type": "execute_result"
    }
   ],
   "source": [
    "↑(arrive)('early' 'on time' 'late'[1++⌿start∘.≤arrive])"
   ]
  },
  {
   "cell_type": "code",
   "execution_count": 6,
   "id": "55a2e21e",
   "metadata": {
    "slideshow": {
     "slide_type": "subslide"
    },
    "tags": []
   },
   "outputs": [
    {
     "data": {
      "text/html": [
       "<span style=\"white-space:pre; font-family: monospace\"> on time  late  on time  on time  early  late  on time  on time  late  on time  late  on time \n",
       "</span>"
      ]
     },
     "execution_count": 6,
     "metadata": {},
     "output_type": "execute_result"
    }
   ],
   "source": [
    "('early' 'on time' 'late'[1+start⍸arrive])"
   ]
  },
  {
   "cell_type": "markdown",
   "id": "b4a33828-4b92-430d-809d-6a161f3301cf",
   "metadata": {
    "slideshow": {
     "slide_type": "slide"
    },
    "tags": []
   },
   "source": [
    "### Problem: Who Attended?\n",
    "This problem comes from [phase 2 of the 2022 APL Problem Solving Competition](https://www.dyalog.com/uploads/files/student_competition/2022_problems_phase2.pdf#page=14)."
   ]
  },
  {
   "cell_type": "markdown",
   "id": "c95ee37a-04ca-42e1-8782-9a71be267685",
   "metadata": {},
   "source": [
    "Each year, Dyalog Ltd sponsors a user meeting where Dyalog staff and users have an\n",
    "opportunity to present topics of interest and interact with one another. Due to the impact\n",
    "of COVID-19, the meetings for 2020 and 2021 were conducted virtually using Zoom.\n",
    "People registered ahead of time and could then sign-on and attend, virtually, any or all\n",
    "sessions. There were two partial days of sessions in each year.\n",
    "\n",
    "After the conclusion of the user meeting, Zoom sent Dyalog Ltd a CSV file containing\n",
    "information including when each attendee joined or left the meeting. The tasks in this\n",
    "problem involve analyzing this information. There are two files that you will need for this\n",
    "problem:"
   ]
  },
  {
   "cell_type": "markdown",
   "id": "503dc6bf-450a-441b-9cde-1efd5f8e9966",
   "metadata": {},
   "source": [
    "AttendeesSA1.csv consists of 5 columns:\n",
    "- **Attendee** - *character vector* - made up randomly generated names.\n",
    "- **Join Time** - *character vector* - date and time attendee joined the meeting\n",
    "- **Leave Time** - *character vector* - date and time attendee left the meeting\n",
    "- **Join Time Number** - *integer* - 1-second precision time number\n",
    "- **Leave Time Number** - *integer* - 1-second precision time number"
   ]
  },
  {
   "cell_type": "markdown",
   "id": "762c4f1a-f88d-4027-b18d-0f7606da97b5",
   "metadata": {},
   "source": [
    "ScheduleSA1.csv consists of 6 columns:\n",
    "- **Session** - *character vector* - session identifier.\n",
    "- **Title** - *character vector* - session title\n",
    "- **Start Time** - *character vector* - date and time of session start\n",
    "- **End Time** - *character vector* - date and time of session end\n",
    "- **Start Time Number** - *integer* - 1-second precision time number\n",
    "- **End Time Number** - *integer* - 1-second precision time number"
   ]
  },
  {
   "cell_type": "markdown",
   "id": "14171b0f-1f68-4461-9e56-31d99604dabb",
   "metadata": {
    "slideshow": {
     "slide_type": "subslide"
    },
    "tags": []
   },
   "source": [
    "To reduce the amount of data parsing and focus on the algorithm, we have converted timestamps into 1-second precision [**time numbers**](https://help.dyalog.com/latest/#Language/System%2520Functions/dt.htm). These are the last 2 columns in the data. We have also removed people who registered but did not attend from the original data.\n",
    "\n",
    "If you are interested in trying to parse the original data, the files are:\n",
    "- [Attendees.csv](https://contest.dyalog.com/Downloads/Attendees.csv)\n",
    "- [Schedule.csv](https://contest.dyalog.com/Downloads/Schedule.csv)"
   ]
  },
  {
   "cell_type": "markdown",
   "id": "69e66e68-989e-4b71-a261-6a609c8e37ce",
   "metadata": {
    "slideshow": {
     "slide_type": "subslide"
    },
    "tags": []
   },
   "source": [
    "If you're using Dyalog 18.2, try the `]Get` user command:"
   ]
  },
  {
   "cell_type": "code",
   "execution_count": 7,
   "id": "12664e1e-e4a7-4931-99e5-6193d96cc07e",
   "metadata": {},
   "outputs": [
    {
     "data": {
      "text/html": [
       "<span style=\"white-space:pre; font-family: monospace\">* Command Execution Failed: cannot find the file \"c:\\src\\18.2\\SALT\\spice\\get.dyalog\"\n",
       "</span>"
      ]
     },
     "execution_count": 7,
     "metadata": {},
     "output_type": "execute_result"
    },
    {
     "data": {
      "text/html": [
       "<span style=\"white-space:pre; font-family: monospace\">* Command Execution Failed: cannot find the file \"c:\\src\\18.2\\SALT\\spice\\get.dyalog\"\n",
       "</span>"
      ]
     },
     "execution_count": 7,
     "metadata": {},
     "output_type": "execute_result"
    },
    {
     "name": "stderr",
     "output_type": "stream",
     "text": [
      "VALUE ERROR: Undefined name: attendeesSA1\n",
      "      attendeesSA1↓⍨←1   ⍝ Remove header rows\n",
      "                  ∧\n",
      "VALUE ERROR: Undefined name: scheduleSA1\n",
      "      scheduleSA1↓⍨←1\n",
      "                 ∧\n"
     ]
    }
   ],
   "source": [
    "]Get \"C:\\Users\\rpark\\Documents\\APL\\Workshops\\Dyalog22\\SA1 Idiomatic Expression and Array Oriented Solutions in APL\\GitHub Publish 2022 SA1\\attendeesSA1.csv\"\n",
    "]Get \"C:\\Users\\rpark\\Documents\\APL\\Workshops\\Dyalog22\\SA1 Idiomatic Expression and Array Oriented Solutions in APL\\GitHub Publish 2022 SA1\\scheduleSA1.csv\"\n",
    "attendeesSA1↓⍨←1   ⍝ Remove header rows\n",
    "scheduleSA1↓⍨←1"
   ]
  },
  {
   "cell_type": "markdown",
   "id": "4d64d211-4b81-4aea-bb1a-711353d298b4",
   "metadata": {},
   "source": [
    "Otherwise, this is the incantation to bring in the data programmatically:"
   ]
  },
  {
   "cell_type": "code",
   "execution_count": 8,
   "id": "8aa55ba4-a2b5-4ab7-9012-b33ad3e217c2",
   "metadata": {
    "tags": []
   },
   "outputs": [
    {
     "data": {
      "text/html": [
       "<span style=\"white-space:pre; font-family: monospace\"> Jaslyn Chapman  11/9/2020 15:18  11/9/2020 18:04  1915456680 1915466640\n",
       " Jaslyn Chapman  11/9/2020 13:57  11/9/2020 15:18  1915451820 1915456680\n",
       " Dalia Gentry    11/9/2020 13:59  11/9/2020 19:03  1915451940 1915470180\n",
       "</span>"
      ]
     },
     "execution_count": 8,
     "metadata": {},
     "output_type": "execute_result"
    }
   ],
   "source": [
    "path ← 'C:\\Users\\rpark\\Documents\\APL\\Workshops\\Dyalog22\\SA1 Idiomatic Expression and Array Oriented Solutions in APL\\GitHub Publish 2022 SA1\\AttendeesSA1.csv'\n",
    "3↑attendeesSA1 ← ⊃⎕CSV path ⍬ 4 1   ⍝ Discard header row"
   ]
  },
  {
   "cell_type": "code",
   "execution_count": 9,
   "id": "88195eea-c6fc-4772-a34d-0202b600d3dd",
   "metadata": {},
   "outputs": [
    {
     "data": {
      "text/html": [
       "<span style=\"white-space:pre; font-family: monospace\"> 2020-D01      Welcome to Dyalog '20  11/9/2020 14:00  11/9/2020 14:15  1915452000 1915452900\n",
       " 2020-D02      The Road Ahead         11/9/2020 14:15  11/9/2020 15:00  1915452900 1915455600\n",
       " 2020-break-1  break                  11/9/2020 15:00  11/9/2020 15:15  1915455600 1915456500\n",
       "</span>"
      ]
     },
     "execution_count": 9,
     "metadata": {},
     "output_type": "execute_result"
    }
   ],
   "source": [
    "path ← 'C:\\Users\\rpark\\Documents\\APL\\Workshops\\Dyalog22\\SA1 Idiomatic Expression and Array Oriented Solutions in APL\\GitHub Publish 2022 SA1\\ScheduleSA1.csv'\n",
    "3↑scheduleSA1 ← ⊃⎕CSV path ⍬ 4 1   ⍝ Discard header row"
   ]
  },
  {
   "cell_type": "markdown",
   "id": "3a96e805-955d-41a2-b666-d303b195ee6d",
   "metadata": {
    "slideshow": {
     "slide_type": "subslide"
    },
    "tags": []
   },
   "source": [
    "#### **Part 1:**\n",
    "Write a dyadic function `Attended` with the syntax:\n",
    "\n",
    "```APL\n",
    " result ← attendees Attended schedule\n",
    "```\n",
    "which returns a $333 \\times 48$ Boolean matrix in which:\n",
    "- rows represent the list of unique attendees sorted alphabetically (`uattendees`).\n",
    "- columns represent each session in `schedule`.\n",
    "- a `1` in `result[i;j]` indicates that `uattendee[i]` attended `schedule[j;]`.\n",
    "    Attendance means that they were present for **at least half of the time** (in minutes) that the session was held.\n",
    "    \n",
    "    For example, for a session 14:00-14:30, if an attendee joins at 14:00 and leaves at 14:14, they did **not** attend."
   ]
  },
  {
   "cell_type": "markdown",
   "id": "64b4581a-9db8-4e48-9e15-f9050d4a0fc2",
   "metadata": {
    "tags": []
   },
   "source": [
    "#### Example results\n",
    "```\n",
    "      who ← 'Zaria Matthews' 'Kathryn Stafford' 'Marlene Lin' 'Kayleigh Rodgers'\n",
    "      \n",
    "      +⌿attendeesSA1 Rude scheduleSA1\n",
    "9 9 2 5 3 0 1 1 0 1 2 4 12 1 0 0 4 1 1 2 3 0 1 6 4 1 1 1 7 1 2 1 1 2 3 0 8 4 1 0 4 1 4 1 2 0 2 0\n",
    "      \n",
    "      (who[⍋who]),⍪↓((attendeesSA1[;1]∊who)⌿attendeesSA1)Attended scheduleSA1\n",
    "┌────────────────┬───────────────────────────────────────────────────────────────────────────────────────────────┐\n",
    "│Kathryn Stafford│1 1 1 1 1 1 1 1 1 0 0 0 1 1 0 1 1 1 1 1 0 0 0 0 0 0 0 0 0 0 0 0 0 0 0 0 0 0 0 0 0 0 0 0 0 0 0 0│\n",
    "├────────────────┼───────────────────────────────────────────────────────────────────────────────────────────────┤\n",
    "│Kayleigh Rodgers│0 1 1 1 0 0 0 0 0 0 0 1 1 1 1 0 1 1 0 1 1 1 1 0 0 0 0 0 0 0 0 0 0 0 0 0 0 0 0 0 0 0 0 0 0 0 1 1│\n",
    "├────────────────┼───────────────────────────────────────────────────────────────────────────────────────────────┤\n",
    "│Marlene Lin     │0 1 0 0 0 0 0 0 0 1 1 0 0 0 0 0 0 0 0 0 0 0 0 0 0 0 0 0 0 0 0 0 0 0 0 0 0 0 0 0 0 0 0 0 0 0 0 0│\n",
    "├────────────────┼───────────────────────────────────────────────────────────────────────────────────────────────┤\n",
    "│Zaria Matthews  │0 0 0 0 0 0 0 0 0 0 0 0 0 0 0 0 0 0 0 0 0 0 0 0 0 0 0 0 0 0 0 0 0 0 0 0 1 0 0 0 0 0 0 0 0 0 0 0│\n",
    "└────────────────┴───────────────────────────────────────────────────────────────────────────────────────────────┘\n",
    "```"
   ]
  },
  {
   "cell_type": "markdown",
   "id": "291db811-f37f-4ce3-9728-eea4c3622dd2",
   "metadata": {
    "slideshow": {
     "slide_type": "slide"
    },
    "tags": []
   },
   "source": [
    "#### **Part 2:**\n",
    "Write a dyadic function `Rude` with the syntax:\n",
    "```APL\n",
    " result ← attendeesSA1 Rude scheduleSA1\n",
    "```\n",
    "\n",
    "which returns a $333\\times48$ integer matrix in which:\n",
    "\n",
    "- rows represent the list of unique attendees sorted alphabetically (`uattendees`).\n",
    "- columns represent each session in `schedule`.\n",
    "- a `1` in `result[i;j]` indicates that `uattendee[i]` joined `schedule[j;]` after it started and left before it ended - within a single join (single row of `attendeeSA1`).\n",
    "\n",
    "**Result**\n",
    "```\n",
    "      ⍴r←attendeesSA1 Rude scheduleSA1\n",
    "333 48\n",
    "\n",
    "      6↑(⊂∘⍒⌷⊢)((⊂∘⍋⌷⊢)∪attendeesSA1[;1]),⍨⍪+/attendeesSA1 Rude scheduleSA1\n",
    "┌─┬───────────────┐\n",
    "│5│Lyric Clarke   │\n",
    "├─┼───────────────┤\n",
    "│3│Tristin Heath  │\n",
    "├─┼───────────────┤\n",
    "│3│Teagan Garrison│\n",
    "├─┼───────────────┤\n",
    "│3│Sam Robles     │\n",
    "├─┼───────────────┤\n",
    "│3│Jaylee Estes   │\n",
    "├─┼───────────────┤\n",
    "│3│Jaliyah Andrade│\n",
    "└─┴───────────────┘\n",
    "```"
   ]
  },
  {
   "cell_type": "markdown",
   "id": "965e7bba",
   "metadata": {
    "slideshow": {
     "slide_type": "slide"
    },
    "tags": []
   },
   "source": [
    "## Runtime comparison\n",
    "Don't bother if not at least 2× speedup\n",
    "\n",
    "```\n",
    "   ]runtime -c \"expr1\" \"expr2\"\n",
    "-50%    2× faster\n",
    "+100%   2× slower\n",
    "```"
   ]
  },
  {
   "cell_type": "markdown",
   "id": "fa9d4cf9",
   "metadata": {
    "slideshow": {
     "slide_type": "slide"
    }
   },
   "source": [
    "#### Problem: Pagination\n",
    "A data API has pagination. Pagination is when the user can request a subset of the data (a page) from the data based on a variable number of items per page.\n",
    "\n",
    "An example web API call might be `/api/data?per_page=20&page=3`\n",
    "> return the 3rd page of data for 20 items per page. That is, return items 41-60 in `⎕IO←1`.\n",
    "\n",
    "When we return this data, we also return references to other pages. A simplified version of the `Paginate` function behaves as follows:\n",
    "\n",
    "```\n",
    " Paginate ← {\n",
    "    ⍺: integer vector (2=≢⍺) :: (page per_page)\n",
    "    ⍵: integer scalar        :: ≢data\n",
    "    ←: integer vector        :: indices of pages\n",
    " }\n",
    "```\n",
    "- If there are less than 10 pages, return `⍳n`.  \n",
    "- If there are at least 10 pages:  \n",
    "    - If the requested page `p` is within the first 5, return `1... 7,(n-1),n`. Otherwise:\n",
    "    - If the requested page `p` is within the last 5, return `1,2,(n-7)... n`. Otherwise:\n",
    "    - Return `1,2,(p-2),(p-1),p,(p+1),(p+2),(n-1),n`.\n",
    "\n",
    "The returned indices is always a unique integer list in ascending order."
   ]
  },
  {
   "cell_type": "markdown",
   "id": "47786e2a-8d3f-48b2-a3cb-e8e40b7ca787",
   "metadata": {
    "slideshow": {
     "slide_type": "subslide"
    },
    "tags": []
   },
   "source": [
    "First, solve the problem in any way that you like.\n",
    "\n",
    "```\n",
    "      3 7 Paginate 23\n",
    "1 2 3 4\n",
    "      5 7 Paginate 100\n",
    "1 2 3 4 5 6 7 14 15\n",
    "      6 7 Paginate 100\n",
    "1 2 4 5 6 7 8 14 15\n",
    "      10 7 Paginate 100\n",
    "1 2 8 9 10 11 12 14 15\n",
    "      11 7 Paginate 100\n",
    "1 2 9 10 11 12 13 14 15\n",
    "```\n",
    "\n",
    "Then, write 3 functions:  \n",
    "- `Paginate1` using explicit control structures - `:Keywords` or `{dfn : guards}`\n",
    "- `Paginate2` which generates all necessary indices and removes duplicates\n",
    "- `Paginate3` which only generates required indices, but uses no explicit control structures"
   ]
  },
  {
   "cell_type": "markdown",
   "id": "8cc459ce",
   "metadata": {
    "slideshow": {
     "slide_type": "slide"
    },
    "tags": []
   },
   "source": [
    "## Flat partitioned application\n",
    "`]aplcart fast partitioned`\n",
    "\n",
    "Nested arrays allow for a wealth of intuitive and useful ways to manipulate collections of ragged data. However, the techniques from before nested arrays can be very fast."
   ]
  },
  {
   "cell_type": "markdown",
   "id": "45f9ff65-006c-450c-b44d-2c1b1bbe0efa",
   "metadata": {
    "slideshow": {
     "slide_type": "subslide"
    },
    "tags": []
   },
   "source": [
    "Flat, homogeneous arrays are stored sequentially in memory. Their shape information at the front (counting elements is fast) and the ravel of elements afterwards.\n",
    "\n",
    "```\n",
    "ABCD\n",
    "EFGH\n",
    "IJKL\n",
    "\n",
    "MNOP\n",
    "QRST\n",
    "UVWX\n",
    "```\n",
    "\n",
    "```\n",
    "2 3 4   A B C D E F G H I J K L M N O...\n",
    "```"
   ]
  },
  {
   "cell_type": "markdown",
   "id": "b54f0a64-ce6e-41a4-bac1-05cde1eab544",
   "metadata": {
    "slideshow": {
     "slide_type": "subslide"
    },
    "tags": []
   },
   "source": [
    "Nested arrays are pointer arrays internally, so it can take longer for the interpreter to traverse memory looking for the data.\n",
    "\n",
    "```\n",
    "┌────┬────┬────┐\n",
    "│ABCD│EFGH│IJKL│\n",
    "├────┼────┼────┤\n",
    "│MNOP│QRST│UVWX│\n",
    "└────┴────┴────┘\n",
    "```\n",
    "\n",
    "![pointer array diagram](pointer-array.png)"
   ]
  },
  {
   "cell_type": "markdown",
   "id": "604eafa7-ddef-4eae-89ba-62db964fd32f",
   "metadata": {
    "slideshow": {
     "slide_type": "subslide"
    },
    "tags": []
   },
   "source": [
    "In this section, we will investigate the flat array versions of some partitioned array techniques."
   ]
  },
  {
   "cell_type": "markdown",
   "id": "2c7bd75d-82c5-4c4c-946b-4854295bc2f9",
   "metadata": {
    "slideshow": {
     "slide_type": "slide"
    },
    "tags": []
   },
   "source": [
    "### Example: Reverse each word"
   ]
  },
  {
   "cell_type": "code",
   "execution_count": 10,
   "id": "767ff40d-0c8e-4219-89aa-72384309328f",
   "metadata": {
    "slideshow": {
     "slide_type": "subslide"
    },
    "tags": []
   },
   "outputs": [
    {
     "data": {
      "text/html": [
       "<span style=\"white-space:pre; font-family: monospace\">tilps esrever dna neht nioj\n",
       "</span>"
      ]
     },
     "execution_count": 10,
     "metadata": {},
     "output_type": "execute_result"
    }
   ],
   "source": [
    "⊃(⊣,' ',⊢)/⌽¨' '(≠⊆⊢)'split reverse and then join'"
   ]
  },
  {
   "cell_type": "code",
   "execution_count": 11,
   "id": "615049cf-2aad-41ef-bb53-e7e12b8bf85c",
   "metadata": {
    "slideshow": {
     "slide_type": "subslide"
    },
    "tags": []
   },
   "outputs": [
    {
     "data": {
      "text/html": [
       "<span style=\"white-space:pre; font-family: monospace\">srever eht nacs \n",
       "</span>"
      ]
     },
     "execution_count": 11,
     "metadata": {},
     "output_type": "execute_result"
    }
   ],
   "source": [
    "s←' ' ⋄ Pad←s∘(⊣,,⍨) ⋄ Unpad←1↓¯1∘↓\n",
    "ReversePart←s∘{⍵[⌽⍒+\\1@1⊢⍺=⍵]}\n",
    "ReverseWords ← Unpad⍤ReversePart⍤Pad\n",
    "ReverseWords 'reverse the scan'"
   ]
  },
  {
   "cell_type": "markdown",
   "id": "4c671aba-d564-4cf8-95b3-0a078fa1b20a",
   "metadata": {
    "slideshow": {
     "slide_type": "slide"
    },
    "tags": []
   },
   "source": [
    "### Example: Text replacement\n",
    "Regex with `⎕R/⎕S` is very powerful for a wide variety of text manipulations. However, performance is usually much better if you can use APL directly.\n",
    "\n",
    "```\n",
    "      {r←⍵ ⋄ ((~r∊a)/r)←'*' ⋄ r} 'alphabetti spaghetti with 3424£$\"% non-word characters'\n",
    "alphabetti*spaghetti*with**********non*word*characters\n",
    "\n",
    "      {r←⍵ ⋄ r[⍸~r∊a]←'*' ⋄ r} 'alphabetti spaghetti with 3424£$\"% non-word characters'\n",
    "alphabetti*spaghetti*with**********non*word*characters\n",
    "```"
   ]
  },
  {
   "cell_type": "code",
   "execution_count": 12,
   "id": "18cb37a6-74a5-4086-b8ba-406e3753c96f",
   "metadata": {
    "slideshow": {
     "slide_type": "subslide"
    },
    "tags": []
   },
   "outputs": [
    {
     "data": {
      "text/html": [
       "<span style=\"white-space:pre; font-family: monospace\">replace*these******non*word*characters\n",
       "</span>"
      ]
     },
     "execution_count": 12,
     "metadata": {},
     "output_type": "execute_result"
    }
   ],
   "source": [
    "'[^\\w]'⎕R'*'⊢'replace these $#!? non word characters'"
   ]
  },
  {
   "cell_type": "code",
   "execution_count": 13,
   "id": "632236cb-cc6c-45b5-876e-839aa6505eb0",
   "metadata": {
    "slideshow": {
     "slide_type": "subslide"
    },
    "tags": []
   },
   "outputs": [
    {
     "data": {
      "text/html": [
       "<span style=\"white-space:pre; font-family: monospace\">replace*these******non*word*characters\n",
       "</span>"
      ]
     },
     "execution_count": 13,
     "metadata": {},
     "output_type": "execute_result"
    }
   ],
   "source": [
    "a←¯1⎕C⎕A\n",
    "{r←⍵ ⋄ ((~r∊a)/r)←'*' ⋄ r}'replace these $#!? non word characters'"
   ]
  },
  {
   "cell_type": "code",
   "execution_count": 14,
   "id": "05b55901-4dd7-40ed-bf11-fd236e05b72e",
   "metadata": {
    "slideshow": {
     "slide_type": "subslide"
    },
    "tags": []
   },
   "outputs": [
    {
     "data": {
      "text/html": [
       "<span style=\"white-space:pre; font-family: monospace\">replace*these******non*word*characters\n",
       "</span>"
      ]
     },
     "execution_count": 14,
     "metadata": {},
     "output_type": "execute_result"
    }
   ],
   "source": [
    "{r←⍵ ⋄ r[⍸~r∊a]←'*' ⋄ r}'replace these $#!? non word characters'"
   ]
  },
  {
   "cell_type": "markdown",
   "id": "40fffc2a-6535-4023-ab84-9db0e801a862",
   "metadata": {
    "slideshow": {
     "slide_type": "slide"
    },
    "tags": []
   },
   "source": [
    "### Problem: Defang an IP address\n",
    "Defanging an IP address means to surround full stops `'.'` with square brackets `[.]`. Apparently this is to prevent users from accidentally clicking on malicious links.\n",
    "\n",
    "Write a function `Defang` which accepts as argument a simple character vector which consists of groups of digits interspersed with full stops (`'.'≡⎕UCS 46`) and returns a simple character where full stops are now surrounded by square brackets.\n",
    "\n",
    "```\n",
    " Defang ← {\n",
    "    ⍵ : simple char vec :: IP address\n",
    "    ← : simple char vec :: Defanged IP address\n",
    " }\n",
    "```\n",
    "\n",
    "```\n",
    "      Defang '192.45.344.22'\n",
    "192[.]45[.]344[.]22\n",
    "```"
   ]
  },
  {
   "cell_type": "markdown",
   "id": "d50d0ffa-4d46-4766-969a-f0bbcc5b6d4b",
   "metadata": {
    "slideshow": {
     "slide_type": "slide"
    },
    "tags": []
   },
   "source": [
    "### Problem: Sums of subvectors\n",
    "*No peeking on APLCart!*\n",
    "\n",
    "With partitioned-enclose `⍺⊂⍵`, new partitions of `⍵` begin positive integers in `⍺` and continue up to the next positive integer."
   ]
  },
  {
   "cell_type": "code",
   "execution_count": 15,
   "id": "edc91d3f-8aa7-4ed3-9873-087f8aefffaa",
   "metadata": {},
   "outputs": [
    {
     "data": {
      "text/html": [
       "<span style=\"white-space:pre; font-family: monospace\"> AB  CDE \n",
       "</span>"
      ]
     },
     "execution_count": 15,
     "metadata": {},
     "output_type": "execute_result"
    }
   ],
   "source": [
    "1 0 1 0 0 ⊂ 'ABCDE'"
   ]
  },
  {
   "cell_type": "markdown",
   "id": "bb587d75-f2fc-4d86-8d0a-47f5ac1658d2",
   "metadata": {
    "slideshow": {
     "slide_type": "subslide"
    },
    "tags": []
   },
   "source": [
    "Write a function equivalent to `{+/¨⍺⊂⍵}` which does not create intermediate nested arrays.\n",
    "\n",
    "Watch out for edge cases:\n",
    "\n",
    "- what if the first partition does not start at index 1?\n",
    "- what about positive integer left arguments to `⍺⊂⍵` (v18 feature)?"
   ]
  },
  {
   "cell_type": "code",
   "execution_count": 18,
   "id": "c080df3f-d7d7-4e53-ba69-361e0e483f4d",
   "metadata": {
    "slideshow": {
     "slide_type": "subslide"
    },
    "tags": []
   },
   "outputs": [
    {
     "data": {
      "text/html": [
       "<span style=\"white-space:pre; font-family: monospace\"> 1 0 0  1  0  1 0  0 0 0 1 0\n",
       "¯2 1 1 ¯1 ¯1 ¯2 0 ¯1 0 2 1 0\n",
       "</span>"
      ]
     },
     "execution_count": 18,
     "metadata": {},
     "output_type": "execute_result"
    },
    {
     "data": {
      "text/html": [
       "<span style=\"white-space:pre; font-family: monospace\">0 ¯2 ¯1 1\n",
       "</span>"
      ]
     },
     "execution_count": 18,
     "metadata": {},
     "output_type": "execute_result"
    }
   ],
   "source": [
    "n←¯3+?12⍴6\n",
    "p ← 1 0 0 1 0 1 0 0 0 0 1 0\n",
    "⎕←↑p n\n",
    "+/¨p⊂n"
   ]
  },
  {
   "cell_type": "markdown",
   "id": "8d27f09c",
   "metadata": {
    "slideshow": {
     "slide_type": "slide"
    },
    "tags": []
   },
   "source": [
    "### Problem: Look-and-say sequence\n",
    "This is a number-list sequence in which the next list of numbers is found by counting the adjacent equal numbers in the current list.\n",
    "\n",
    "|Look|Say|\n",
    "|---|---|\n",
    "|1|One 1|\n",
    "|1 1|Two 1s|\n",
    "|2 1|One 2, one 1|\n",
    "|1 2 1 1|One 1, one 2, two 1s|\n",
    "|1 1 1 2 2 1|Three 1s, two 2s, one 1|\n",
    "|3 1 2 2 1 1|One 3, one 1, two 2s, two 1s|\n",
    "|...|...|\n"
   ]
  },
  {
   "cell_type": "markdown",
   "id": "ae992a12-6f65-46bb-89c2-5dcddb528093",
   "metadata": {
    "slideshow": {
     "slide_type": "slide"
    },
    "tags": []
   },
   "source": [
    "**First**, solve this problem in any way you see fit.\n",
    "\n",
    "**Then**, see if you can leverage flat array techniques to make a fast solution.\n",
    "\n",
    "Feel free to [search APLCart](https://aplcart.info) to find flat array idioms to help you.\n",
    "\n",
    "The monadic function `LookAndSay` takes a look-and-say sequence and returns the next one.\n",
    "\n",
    "```\n",
    "      LookAndSay⍣6⊢1\n",
    " 1 3 1 1 2 2 2 1\n",
    "      LookAndSay⍣7⊢1\n",
    " 1 1 1 3 2 1 3 2 1 1\n",
    "```\n",
    "\n",
    "The monadic function `SayAndLook` takes a look-and-say sequence and returns the previous one.\n",
    "```  \n",
    "      SayAndLook 1 1 1 3 2 1 3 2 1 1\n",
    " 1 3 1 1 2 2 2 1\n",
    "```"
   ]
  },
  {
   "attachments": {
    "26f2df33-466e-4c51-989f-5d2626b5c806.png": {
     "image/png": "[encoded data removed]"
    }
   },
   "cell_type": "markdown",
   "id": "f6df9ba7",
   "metadata": {
    "slideshow": {
     "slide_type": "slide"
    },
    "tags": []
   },
   "source": [
    "### Problem: General Involution (Snail Sort)\n",
    "In \"snail sort\", we want to unravel the elements of an array in the order of a spiral beginning at the top left and moving clockwise and inwards towards the center of the spiral.\n",
    "\n",
    "![image.png](attachment:26f2df33-466e-4c51-989f-5d2626b5c806.png)\n",
    "\n",
    "A recursive solution is given below:"
   ]
  },
  {
   "cell_type": "code",
   "execution_count": 17,
   "id": "7fc362da-2ba1-4322-b452-852daeb1c243",
   "metadata": {
    "slideshow": {
     "slide_type": "subslide"
    },
    "tags": []
   },
   "outputs": [
    {
     "data": {
      "text/html": [
       "<span style=\"white-space:pre; font-family: monospace\">ABCDE\n",
       "FGHIJ\n",
       "KLMNO\n",
       "PQRST\n",
       "UVWXY\n",
       "</span>"
      ]
     },
     "execution_count": 17,
     "metadata": {},
     "output_type": "execute_result"
    },
    {
     "data": {
      "text/html": [
       "<span style=\"white-space:pre; font-family: monospace\">ABCDEJOTYXWVUPKFGHINSRQLM\n",
       "</span>"
      ]
     },
     "execution_count": 17,
     "metadata": {},
     "output_type": "execute_result"
    }
   ],
   "source": [
    "⎕←5 5⍴⎕A\n",
    "{0∊⍴⍵:0⍴⍵ ⋄ (1⌷⍵),∇⊖⍉1↓⍵} 5 5⍴⎕A"
   ]
  },
  {
   "cell_type": "markdown",
   "id": "8c24f582-3e5d-4866-88c4-c22636f443c0",
   "metadata": {
    "slideshow": {
     "slide_type": "subslide"
    },
    "tags": []
   },
   "source": [
    "**Task:** Try to write a function which does snail sort without looping or recursion.\n",
    "\n",
    "<details>\n",
    "    <summary><strong>HINT</strong></summary>\n",
    "How can we select the required elements \"all at once\"? Think about representing \"steps\" through the matrix. A `+\\` is likely useful.\n",
    "</details> \n",
    "\n",
    "---\n",
    "A non-looping solution is provided in the following summary tag.\n",
    "\n",
    "<details>\n",
    "    <summary>Reveal solution</summary>\n",
    "<pre><code class=\"language-apl\">\n",
    "SnailSort ← {\n",
    "    s←⊃⍴⍵\n",
    "    i←+\\(1↓2/⌽⍳s)/(¯1+2×s)⍴(+,-)1,s\n",
    "    (,⍵)[i]\n",
    "}\n",
    "</code></pre>\n",
    "</details>\n",
    "\n",
    "---\n",
    "\n",
    "You might notice that this solution only works for square matrices.\n",
    "\n",
    "**Task:** Generalise the solution to work with any shape matrix."
   ]
  }
 ],
 "metadata": {
  "kernelspec": {
   "display_name": "Dyalog APL",
   "language": "apl",
   "name": "dyalog-kernel"
  },
  "language_info": {
   "file_extension": ".apl",
   "mimetype": "text/apl",
   "name": "APL"
  }
 },
 "nbformat": 4,
 "nbformat_minor": 5
}
